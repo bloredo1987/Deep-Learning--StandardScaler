{
  "nbformat": 4,
  "nbformat_minor": 0,
  "metadata": {
    "colab": {
      "provenance": []
    },
    "kernelspec": {
      "name": "python3",
      "display_name": "Python 3"
    },
    "language_info": {
      "name": "python"
    }
  },
  "cells": [
    {
      "cell_type": "code",
      "execution_count": 1,
      "metadata": {
        "colab": {
          "base_uri": "https://localhost:8080/"
        },
        "id": "u0kOOvYN3rzS",
        "outputId": "3cd9b0b0-6fd1-412d-ed8c-388371233e34"
      },
      "outputs": [
        {
          "output_type": "stream",
          "name": "stdout",
          "text": [
            "\r0% [Working]\r            \rGet:1 https://cloud.r-project.org/bin/linux/ubuntu jammy-cran40/ InRelease [3,626 B]\n",
            "\r0% [Waiting for headers] [Connecting to security.ubuntu.com] [1 InRelease 0 B/3\r0% [Waiting for headers] [Connecting to security.ubuntu.com] [Connecting to ppa\r                                                                               \rHit:2 https://developer.download.nvidia.com/compute/cuda/repos/ubuntu2204/x86_64  InRelease\n",
            "\r0% [Waiting for headers] [Connecting to security.ubuntu.com (185.125.190.36)] [\r                                                                               \rHit:3 http://archive.ubuntu.com/ubuntu jammy InRelease\n",
            "Get:4 http://archive.ubuntu.com/ubuntu jammy-updates InRelease [119 kB]\n",
            "Get:5 http://security.ubuntu.com/ubuntu jammy-security InRelease [110 kB]\n",
            "Get:6 http://archive.ubuntu.com/ubuntu jammy-backports InRelease [109 kB]\n",
            "Hit:7 https://ppa.launchpadcontent.net/c2d4u.team/c2d4u4.0+/ubuntu jammy InRelease\n",
            "Get:8 http://archive.ubuntu.com/ubuntu jammy-updates/main amd64 Packages [1,343 kB]\n",
            "Get:9 http://archive.ubuntu.com/ubuntu jammy-updates/universe amd64 Packages [1,267 kB]\n",
            "Hit:10 https://ppa.launchpadcontent.net/deadsnakes/ppa/ubuntu jammy InRelease\n",
            "Get:11 http://security.ubuntu.com/ubuntu jammy-security/main amd64 Packages [1,081 kB]\n",
            "Hit:12 https://ppa.launchpadcontent.net/graphics-drivers/ppa/ubuntu jammy InRelease\n",
            "Get:13 http://security.ubuntu.com/ubuntu jammy-security/universe amd64 Packages [1,002 kB]\n",
            "Hit:14 https://ppa.launchpadcontent.net/ubuntugis/ppa/ubuntu jammy InRelease\n",
            "Fetched 5,034 kB in 3s (1,726 kB/s)\n",
            "Reading package lists... Done\n"
          ]
        }
      ],
      "source": [
        "import os\n",
        "# Find the latest version of spark 3.x  from http://www.apache.org/dist/spark/ and enter as the spark version\n",
        "# For example:\n",
        "# spark_version = 'spark-3.4.0'\n",
        "spark_version = 'spark-3.4.1'\n",
        "os.environ['SPARK_VERSION']=spark_version\n",
        "\n",
        "# Install Spark and Java\n",
        "!apt-get update\n",
        "!apt-get install openjdk-11-jdk-headless -qq > /dev/null\n",
        "!wget -q http://www.apache.org/dist/spark/$SPARK_VERSION/$SPARK_VERSION-bin-hadoop3.tgz\n",
        "!tar xf $SPARK_VERSION-bin-hadoop3.tgz\n",
        "!pip install -q findspark\n",
        "\n",
        "# Set Environment Variables\n",
        "os.environ[\"JAVA_HOME\"] = \"/usr/lib/jvm/java-11-openjdk-amd64\"\n",
        "os.environ[\"SPARK_HOME\"] = f\"/content/{spark_version}-bin-hadoop3\"\n",
        "\n",
        "# Start a SparkSession\n",
        "import findspark\n",
        "findspark.init()"
      ]
    },
    {
      "cell_type": "code",
      "source": [
        "# Import packages\n",
        "from pyspark.sql import SparkSession\n",
        "import time\n",
        "\n",
        "# Create a SparkSession\n",
        "spark = SparkSession.builder\\\n",
        "    .appName(\"SparkSQL\")\\\n",
        "    .config(\"spark.sql.debug.maxToStringFields\", 2000)\\\n",
        "    .config(\"spark.driver.memory\", \"2g\")\\\n",
        "    .getOrCreate()"
      ],
      "metadata": {
        "id": "7-BIBVe_4nJQ"
      },
      "execution_count": 2,
      "outputs": []
    },
    {
      "cell_type": "code",
      "source": [
        "# Define the URL of the CSV file\n",
        "from pyspark import SparkFiles\n",
        "csv_url = \"https://static.bc-edx.com/data/dl-1-2/m21/lms/starter/charity_data.csv\"\n",
        "spark.sparkContext.addFile(csv_url)\n",
        "charity_data_df = spark.read.csv(SparkFiles.get(\"charity_data.csv\"), sep=\",\", header=True)"
      ],
      "metadata": {
        "id": "kOmGj4wN4rJe"
      },
      "execution_count": 6,
      "outputs": []
    },
    {
      "cell_type": "code",
      "source": [
        "charity_data_df.show()"
      ],
      "metadata": {
        "colab": {
          "base_uri": "https://localhost:8080/"
        },
        "id": "PYjjdWNr5SJJ",
        "outputId": "8614ce79-7e5f-443b-a815-96c35fc84af5"
      },
      "execution_count": 7,
      "outputs": [
        {
          "output_type": "stream",
          "name": "stdout",
          "text": [
            "+--------+--------------------+----------------+----------------+--------------+------------+------------+------+-------------+----------------------+--------+-------------+\n",
            "|     EIN|                NAME|APPLICATION_TYPE|     AFFILIATION|CLASSIFICATION|    USE_CASE|ORGANIZATION|STATUS|   INCOME_AMT|SPECIAL_CONSIDERATIONS| ASK_AMT|IS_SUCCESSFUL|\n",
            "+--------+--------------------+----------------+----------------+--------------+------------+------------+------+-------------+----------------------+--------+-------------+\n",
            "|10520599|BLUE KNIGHTS MOTO...|             T10|     Independent|         C1000|  ProductDev| Association|     1|            0|                     N|    5000|            1|\n",
            "|10531628|AMERICAN CHESAPEA...|              T3|     Independent|         C2000|Preservation|Co-operative|     1|       1-9999|                     N|  108590|            1|\n",
            "|10547893|ST CLOUD PROFESSI...|              T5|CompanySponsored|         C3000|  ProductDev| Association|     1|            0|                     N|    5000|            0|\n",
            "|10553066|SOUTHSIDE ATHLETI...|              T3|CompanySponsored|         C2000|Preservation|       Trust|     1|  10000-24999|                     N|    6692|            1|\n",
            "|10556103|GENETIC RESEARCH ...|              T3|     Independent|         C1000|   Heathcare|       Trust|     1|100000-499999|                     N|  142590|            1|\n",
            "|10556855|MINORITY ORGAN & ...|              T3|     Independent|         C1200|Preservation|       Trust|     1|            0|                     N|    5000|            1|\n",
            "|10558440|FRIENDS OF ARTS C...|              T3|     Independent|         C1000|Preservation|       Trust|     1|100000-499999|                     N|   31452|            1|\n",
            "|10566033|ISRAEL EMERGENCY ...|              T3|     Independent|         C2000|Preservation|       Trust|     1|      10M-50M|                     N| 7508025|            1|\n",
            "|10570430|    ARAMCO BRATS INC|              T7|     Independent|         C1000|  ProductDev|       Trust|     1|       1-9999|                     N|   94389|            1|\n",
            "|10571689|INTERNATIONAL ASS...|              T5|CompanySponsored|         C3000|  ProductDev| Association|     1|            0|                     N|    5000|            0|\n",
            "|10573059|KAI ELUA OUTRIGGE...|              T3|     Independent|         C1200|Preservation|       Trust|     1|  25000-99999|                     N|   69656|            0|\n",
            "|10575727|    HERITAGE ACADEMY|              T3|     Independent|         C2000|Preservation|       Trust|     1|100000-499999|                     N|  165593|            0|\n",
            "|10583569|THE UNITED STATES...|              T3|CompanySponsored|         C1200|Preservation| Association|     1|            0|                     N|    5000|            1|\n",
            "|10585206|DOMINION INTERNAT...|              T3|     Independent|         C2700|Preservation|       Trust|     1|  25000-99999|                     N|    5301|            1|\n",
            "|10585443|    V O W FOUNDATION|              T3|     Independent|         C1000|Preservation|       Trust|     1|            0|                     N|    5000|            1|\n",
            "|10596727|JOSEPH E PEEBLES ...|              T3|     Independent|         C1200|Preservation|       Trust|     1|            0|                     N|    5000|            1|\n",
            "|10602428|WASHINGTON ASSOCI...|              T3|     Independent|         C2000|Preservation|       Trust|     1|            0|                     N|    5000|            1|\n",
            "|10603214|SAINT FRANCIS HOS...|              T3|     Independent|         C1000|   Heathcare|       Trust|     1|         50M+|                     N|86380556|            0|\n",
            "|10604986|ANCHORAGE COMMUNI...|              T3|CompanySponsored|         C1000|Preservation|       Trust|     1|            0|                     N|    5000|            0|\n",
            "|10605038|HABITAT FOR HUMAN...|              T3|CompanySponsored|         C1000|Preservation|       Trust|     1|100000-499999|                     N|  376109|            0|\n",
            "+--------+--------------------+----------------+----------------+--------------+------------+------------+------+-------------+----------------------+--------+-------------+\n",
            "only showing top 20 rows\n",
            "\n"
          ]
        }
      ]
    },
    {
      "cell_type": "code",
      "source": [
        "updated_charity_data_df = charity_data_df.drop('EIN', 'NAME')\n",
        "\n",
        "updated_charity_data_df.show()"
      ],
      "metadata": {
        "colab": {
          "base_uri": "https://localhost:8080/"
        },
        "id": "t9x4ColS59QL",
        "outputId": "c279a2f2-6181-49d1-fc47-ff7a0cf81d9e"
      },
      "execution_count": 13,
      "outputs": [
        {
          "output_type": "stream",
          "name": "stdout",
          "text": [
            "+----------------+----------------+--------------+------------+------------+------+-------------+----------------------+--------+-------------+\n",
            "|APPLICATION_TYPE|     AFFILIATION|CLASSIFICATION|    USE_CASE|ORGANIZATION|STATUS|   INCOME_AMT|SPECIAL_CONSIDERATIONS| ASK_AMT|IS_SUCCESSFUL|\n",
            "+----------------+----------------+--------------+------------+------------+------+-------------+----------------------+--------+-------------+\n",
            "|             T10|     Independent|         C1000|  ProductDev| Association|     1|            0|                     N|    5000|            1|\n",
            "|              T3|     Independent|         C2000|Preservation|Co-operative|     1|       1-9999|                     N|  108590|            1|\n",
            "|              T5|CompanySponsored|         C3000|  ProductDev| Association|     1|            0|                     N|    5000|            0|\n",
            "|              T3|CompanySponsored|         C2000|Preservation|       Trust|     1|  10000-24999|                     N|    6692|            1|\n",
            "|              T3|     Independent|         C1000|   Heathcare|       Trust|     1|100000-499999|                     N|  142590|            1|\n",
            "|              T3|     Independent|         C1200|Preservation|       Trust|     1|            0|                     N|    5000|            1|\n",
            "|              T3|     Independent|         C1000|Preservation|       Trust|     1|100000-499999|                     N|   31452|            1|\n",
            "|              T3|     Independent|         C2000|Preservation|       Trust|     1|      10M-50M|                     N| 7508025|            1|\n",
            "|              T7|     Independent|         C1000|  ProductDev|       Trust|     1|       1-9999|                     N|   94389|            1|\n",
            "|              T5|CompanySponsored|         C3000|  ProductDev| Association|     1|            0|                     N|    5000|            0|\n",
            "|              T3|     Independent|         C1200|Preservation|       Trust|     1|  25000-99999|                     N|   69656|            0|\n",
            "|              T3|     Independent|         C2000|Preservation|       Trust|     1|100000-499999|                     N|  165593|            0|\n",
            "|              T3|CompanySponsored|         C1200|Preservation| Association|     1|            0|                     N|    5000|            1|\n",
            "|              T3|     Independent|         C2700|Preservation|       Trust|     1|  25000-99999|                     N|    5301|            1|\n",
            "|              T3|     Independent|         C1000|Preservation|       Trust|     1|            0|                     N|    5000|            1|\n",
            "|              T3|     Independent|         C1200|Preservation|       Trust|     1|            0|                     N|    5000|            1|\n",
            "|              T3|     Independent|         C2000|Preservation|       Trust|     1|            0|                     N|    5000|            1|\n",
            "|              T3|     Independent|         C1000|   Heathcare|       Trust|     1|         50M+|                     N|86380556|            0|\n",
            "|              T3|CompanySponsored|         C1000|Preservation|       Trust|     1|            0|                     N|    5000|            0|\n",
            "|              T3|CompanySponsored|         C1000|Preservation|       Trust|     1|100000-499999|                     N|  376109|            0|\n",
            "+----------------+----------------+--------------+------------+------------+------+-------------+----------------------+--------+-------------+\n",
            "only showing top 20 rows\n",
            "\n"
          ]
        }
      ]
    },
    {
      "cell_type": "code",
      "source": [
        "updated_charity_data_df.printSchema()"
      ],
      "metadata": {
        "colab": {
          "base_uri": "https://localhost:8080/"
        },
        "id": "lSRy3SOT7Bsd",
        "outputId": "5dbb5bb7-9598-41e5-b499-030d7140a272"
      },
      "execution_count": 17,
      "outputs": [
        {
          "output_type": "stream",
          "name": "stdout",
          "text": [
            "root\n",
            " |-- APPLICATION_TYPE: string (nullable = true)\n",
            " |-- AFFILIATION: string (nullable = true)\n",
            " |-- CLASSIFICATION: string (nullable = true)\n",
            " |-- USE_CASE: string (nullable = true)\n",
            " |-- ORGANIZATION: string (nullable = true)\n",
            " |-- STATUS: string (nullable = true)\n",
            " |-- INCOME_AMT: string (nullable = true)\n",
            " |-- SPECIAL_CONSIDERATIONS: string (nullable = true)\n",
            " |-- ASK_AMT: string (nullable = true)\n",
            " |-- IS_SUCCESSFUL: string (nullable = true)\n",
            "\n"
          ]
        }
      ]
    },
    {
      "cell_type": "code",
      "source": [
        "updated_charity_data_df.createOrReplaceTempView('charity')"
      ],
      "metadata": {
        "id": "2UWReXCa7yfV"
      },
      "execution_count": 19,
      "outputs": []
    },
    {
      "cell_type": "code",
      "source": [
        "spark.sql(\"SELECT count(DISTINCT APPLICATION_TYPE) AS unique_count FROM charity\").show()"
      ],
      "metadata": {
        "colab": {
          "base_uri": "https://localhost:8080/"
        },
        "id": "Hhia6gMwCZlC",
        "outputId": "28a1f202-3e38-4481-aa00-aaf9fd73cb26"
      },
      "execution_count": 31,
      "outputs": [
        {
          "output_type": "stream",
          "name": "stdout",
          "text": [
            "+------------+\n",
            "|unique_count|\n",
            "+------------+\n",
            "|          17|\n",
            "+------------+\n",
            "\n"
          ]
        }
      ]
    },
    {
      "cell_type": "code",
      "source": [
        "spark.sql(\"SELECT DISTINCT APPLICATION_TYPE FROM charity\").show()"
      ],
      "metadata": {
        "colab": {
          "base_uri": "https://localhost:8080/"
        },
        "id": "KyBUw67_9kQD",
        "outputId": "477f129d-5356-438b-9a2d-e73b1e6f02bb"
      },
      "execution_count": 29,
      "outputs": [
        {
          "output_type": "stream",
          "name": "stdout",
          "text": [
            "+----------------+\n",
            "|APPLICATION_TYPE|\n",
            "+----------------+\n",
            "|             T13|\n",
            "|              T6|\n",
            "|              T9|\n",
            "|              T3|\n",
            "|              T7|\n",
            "|             T14|\n",
            "|             T12|\n",
            "|              T5|\n",
            "|             T19|\n",
            "|             T10|\n",
            "|              T2|\n",
            "|             T25|\n",
            "|              T8|\n",
            "|             T17|\n",
            "|             T29|\n",
            "|             T15|\n",
            "|              T4|\n",
            "+----------------+\n",
            "\n"
          ]
        }
      ]
    },
    {
      "cell_type": "code",
      "source": [
        "start_time = time.time()\n",
        "\n",
        "spark.sql(\"SELECT DISTINCT CLASSIFICATION FROM charity\").show()\n",
        "\n",
        "print(\"--- %s seconds ---\" % (time.time() - start_time))"
      ],
      "metadata": {
        "colab": {
          "base_uri": "https://localhost:8080/"
        },
        "id": "E281WKIrAG1T",
        "outputId": "5628c846-b42d-404e-a16a-8fb3fa89f330"
      },
      "execution_count": 33,
      "outputs": [
        {
          "output_type": "stream",
          "name": "stdout",
          "text": [
            "+--------------+\n",
            "|CLASSIFICATION|\n",
            "+--------------+\n",
            "|         C2100|\n",
            "|         C2570|\n",
            "|         C1732|\n",
            "|         C1600|\n",
            "|         C1570|\n",
            "|         C1240|\n",
            "|         C3200|\n",
            "|         C7210|\n",
            "|         C2710|\n",
            "|         C7200|\n",
            "|         C1300|\n",
            "|         C7000|\n",
            "|         C1267|\n",
            "|         C4500|\n",
            "|         C1283|\n",
            "|         C1237|\n",
            "|         C1256|\n",
            "|         C1280|\n",
            "|         C1728|\n",
            "|         C4100|\n",
            "+--------------+\n",
            "only showing top 20 rows\n",
            "\n",
            "--- 1.4074532985687256 seconds ---\n"
          ]
        }
      ]
    },
    {
      "cell_type": "code",
      "source": [
        "start_time = time.time()\n",
        "\n",
        "spark.sql(\"SELECT DISTINCT IS_SUCCESSFUL FROM charity\").show()\n",
        "\n",
        "print(\"--- %s seconds ---\" % (time.time() - start_time))"
      ],
      "metadata": {
        "colab": {
          "base_uri": "https://localhost:8080/"
        },
        "id": "UanjvXpeG8Sd",
        "outputId": "c707c34c-b91b-431b-c865-f0beadfb29aa"
      },
      "execution_count": 43,
      "outputs": [
        {
          "output_type": "stream",
          "name": "stdout",
          "text": [
            "+-------------+\n",
            "|IS_SUCCESSFUL|\n",
            "+-------------+\n",
            "|            0|\n",
            "|            1|\n",
            "+-------------+\n",
            "\n",
            "--- 0.5811536312103271 seconds ---\n"
          ]
        }
      ]
    },
    {
      "cell_type": "code",
      "source": [
        "spark.sql(\"cache table charity\")"
      ],
      "metadata": {
        "colab": {
          "base_uri": "https://localhost:8080/"
        },
        "id": "TQp0ofXxEFSN",
        "outputId": "623bf5c5-2677-469e-b479-0ce86a55be95"
      },
      "execution_count": 44,
      "outputs": [
        {
          "output_type": "execute_result",
          "data": {
            "text/plain": [
              "DataFrame[]"
            ]
          },
          "metadata": {},
          "execution_count": 44
        }
      ]
    },
    {
      "cell_type": "code",
      "source": [
        "start_time = time.time()\n",
        "\n",
        "spark.sql(\"SELECT DISTINCT IS_SUCCESSFUL FROM charity\").show()\n",
        "\n",
        "print(\"--- %s seconds ---\" % (time.time() - start_time))"
      ],
      "metadata": {
        "colab": {
          "base_uri": "https://localhost:8080/"
        },
        "id": "_Eu4zNyZFxq0",
        "outputId": "2691c151-20be-4ce7-ebb1-b5082b3e2848"
      },
      "execution_count": 52,
      "outputs": [
        {
          "output_type": "stream",
          "name": "stdout",
          "text": [
            "+-------------+\n",
            "|IS_SUCCESSFUL|\n",
            "+-------------+\n",
            "|            0|\n",
            "|            1|\n",
            "+-------------+\n",
            "\n",
            "--- 0.35675740242004395 seconds ---\n"
          ]
        }
      ]
    },
    {
      "cell_type": "code",
      "source": [
        "spark.sql(\"uncache table charity\")"
      ],
      "metadata": {
        "colab": {
          "base_uri": "https://localhost:8080/"
        },
        "id": "m7vx33OvFfee",
        "outputId": "0f4d3899-e598-47e3-938e-7bf2a1b88551"
      },
      "execution_count": 53,
      "outputs": [
        {
          "output_type": "execute_result",
          "data": {
            "text/plain": [
              "DataFrame[]"
            ]
          },
          "metadata": {},
          "execution_count": 53
        }
      ]
    },
    {
      "cell_type": "code",
      "source": [
        "# Verify that the table is no longer cached\n",
        "if spark.catalog.isCached(\"charity\"):\n",
        "  print(\"a table is still cached\")\n",
        "else:\n",
        "  print(\"all clear\")"
      ],
      "metadata": {
        "colab": {
          "base_uri": "https://localhost:8080/"
        },
        "id": "VzW1-CraFmfk",
        "outputId": "a1185bdf-0485-4634-b473-0d34f7387324"
      },
      "execution_count": 54,
      "outputs": [
        {
          "output_type": "stream",
          "name": "stdout",
          "text": [
            "all clear\n"
          ]
        }
      ]
    },
    {
      "cell_type": "code",
      "source": [],
      "metadata": {
        "id": "LhJYo1yNFq-K"
      },
      "execution_count": null,
      "outputs": []
    }
  ]
}